{
 "cells": [
  {
   "cell_type": "code",
   "execution_count": 1,
   "id": "44116f3a",
   "metadata": {},
   "outputs": [],
   "source": [
    "# Loading required Libraries\n",
    "\n",
    "import pandas as pd\n",
    "import numpy as np"
   ]
  },
  {
   "cell_type": "code",
   "execution_count": 2,
   "id": "79128e40",
   "metadata": {},
   "outputs": [
    {
     "data": {
      "text/html": [
       "<div>\n",
       "<style scoped>\n",
       "    .dataframe tbody tr th:only-of-type {\n",
       "        vertical-align: middle;\n",
       "    }\n",
       "\n",
       "    .dataframe tbody tr th {\n",
       "        vertical-align: top;\n",
       "    }\n",
       "\n",
       "    .dataframe thead th {\n",
       "        text-align: right;\n",
       "    }\n",
       "</style>\n",
       "<table border=\"1\" class=\"dataframe\">\n",
       "  <thead>\n",
       "    <tr style=\"text-align: right;\">\n",
       "      <th></th>\n",
       "      <th>$1000 Damage to Any One Person's Property</th>\n",
       "      <th>Active School Zone Flag</th>\n",
       "      <th>At Intersection Flag</th>\n",
       "      <th>Average Daily Traffic Amount</th>\n",
       "      <th>Construction Zone Flag</th>\n",
       "      <th>Crash Severity</th>\n",
       "      <th>Crash Time</th>\n",
       "      <th>Crash Total Injury Count</th>\n",
       "      <th>Crash Year</th>\n",
       "      <th>Day of Week</th>\n",
       "      <th>Intersection Related</th>\n",
       "      <th>Roadway Part</th>\n",
       "      <th>Speed Limit</th>\n",
       "      <th>Surface Condition</th>\n",
       "      <th>Traffic Control Type</th>\n",
       "      <th>Person Helmet</th>\n",
       "    </tr>\n",
       "  </thead>\n",
       "  <tbody>\n",
       "    <tr>\n",
       "      <th>0</th>\n",
       "      <td>No</td>\n",
       "      <td>No</td>\n",
       "      <td>False</td>\n",
       "      <td>15262</td>\n",
       "      <td>No</td>\n",
       "      <td>Incapacitating Injury</td>\n",
       "      <td>239</td>\n",
       "      <td>1</td>\n",
       "      <td>2010</td>\n",
       "      <td>Friday</td>\n",
       "      <td>Non Intersection</td>\n",
       "      <td>Main/Proper Lane</td>\n",
       "      <td>45</td>\n",
       "      <td>Dry</td>\n",
       "      <td>Marked Lanes</td>\n",
       "      <td>Worn, Damaged</td>\n",
       "    </tr>\n",
       "    <tr>\n",
       "      <th>1</th>\n",
       "      <td>No</td>\n",
       "      <td>No</td>\n",
       "      <td>False</td>\n",
       "      <td>No Data</td>\n",
       "      <td>No</td>\n",
       "      <td>Non-Incapacitating Injury</td>\n",
       "      <td>310</td>\n",
       "      <td>2</td>\n",
       "      <td>2010</td>\n",
       "      <td>Friday</td>\n",
       "      <td>Non Intersection</td>\n",
       "      <td>Main/Proper Lane</td>\n",
       "      <td>35</td>\n",
       "      <td>Dry</td>\n",
       "      <td>Center Stripe/Divider</td>\n",
       "      <td>Not Worn</td>\n",
       "    </tr>\n",
       "    <tr>\n",
       "      <th>2</th>\n",
       "      <td>No</td>\n",
       "      <td>No</td>\n",
       "      <td>False</td>\n",
       "      <td>No Data</td>\n",
       "      <td>No</td>\n",
       "      <td>Non-Incapacitating Injury</td>\n",
       "      <td>310</td>\n",
       "      <td>2</td>\n",
       "      <td>2010</td>\n",
       "      <td>Friday</td>\n",
       "      <td>Non Intersection</td>\n",
       "      <td>Main/Proper Lane</td>\n",
       "      <td>35</td>\n",
       "      <td>Dry</td>\n",
       "      <td>Center Stripe/Divider</td>\n",
       "      <td>Not Worn</td>\n",
       "    </tr>\n",
       "    <tr>\n",
       "      <th>3</th>\n",
       "      <td>No</td>\n",
       "      <td>No</td>\n",
       "      <td>False</td>\n",
       "      <td>No Data</td>\n",
       "      <td>No</td>\n",
       "      <td>Non-Incapacitating Injury</td>\n",
       "      <td>310</td>\n",
       "      <td>2</td>\n",
       "      <td>2010</td>\n",
       "      <td>Friday</td>\n",
       "      <td>Non Intersection</td>\n",
       "      <td>Main/Proper Lane</td>\n",
       "      <td>35</td>\n",
       "      <td>Dry</td>\n",
       "      <td>Center Stripe/Divider</td>\n",
       "      <td>Not Worn</td>\n",
       "    </tr>\n",
       "    <tr>\n",
       "      <th>4</th>\n",
       "      <td>No</td>\n",
       "      <td>No</td>\n",
       "      <td>False</td>\n",
       "      <td>22775</td>\n",
       "      <td>No</td>\n",
       "      <td>Non-Incapacitating Injury</td>\n",
       "      <td>2300</td>\n",
       "      <td>1</td>\n",
       "      <td>2010</td>\n",
       "      <td>Monday</td>\n",
       "      <td>Intersection Related</td>\n",
       "      <td>Main/Proper Lane</td>\n",
       "      <td>45</td>\n",
       "      <td>Dry</td>\n",
       "      <td>None</td>\n",
       "      <td>Not Worn</td>\n",
       "    </tr>\n",
       "  </tbody>\n",
       "</table>\n",
       "</div>"
      ],
      "text/plain": [
       "  $1000 Damage to Any One Person's Property Active School Zone Flag  \\\n",
       "0                                        No                      No   \n",
       "1                                        No                      No   \n",
       "2                                        No                      No   \n",
       "3                                        No                      No   \n",
       "4                                        No                      No   \n",
       "\n",
       "   At Intersection Flag Average Daily Traffic Amount Construction Zone Flag  \\\n",
       "0                 False                        15262                     No   \n",
       "1                 False                      No Data                     No   \n",
       "2                 False                      No Data                     No   \n",
       "3                 False                      No Data                     No   \n",
       "4                 False                        22775                     No   \n",
       "\n",
       "              Crash Severity  Crash Time  Crash Total Injury Count  \\\n",
       "0      Incapacitating Injury         239                         1   \n",
       "1  Non-Incapacitating Injury         310                         2   \n",
       "2  Non-Incapacitating Injury         310                         2   \n",
       "3  Non-Incapacitating Injury         310                         2   \n",
       "4  Non-Incapacitating Injury        2300                         1   \n",
       "\n",
       "   Crash Year Day of Week  Intersection Related      Roadway Part  \\\n",
       "0        2010      Friday      Non Intersection  Main/Proper Lane   \n",
       "1        2010      Friday      Non Intersection  Main/Proper Lane   \n",
       "2        2010      Friday      Non Intersection  Main/Proper Lane   \n",
       "3        2010      Friday      Non Intersection  Main/Proper Lane   \n",
       "4        2010      Monday  Intersection Related  Main/Proper Lane   \n",
       "\n",
       "   Speed Limit Surface Condition   Traffic Control Type  Person Helmet  \n",
       "0           45               Dry           Marked Lanes  Worn, Damaged  \n",
       "1           35               Dry  Center Stripe/Divider       Not Worn  \n",
       "2           35               Dry  Center Stripe/Divider       Not Worn  \n",
       "3           35               Dry  Center Stripe/Divider       Not Worn  \n",
       "4           45               Dry                   None       Not Worn  "
      ]
     },
     "execution_count": 2,
     "metadata": {},
     "output_type": "execute_result"
    }
   ],
   "source": [
    "# Loading the dataset and displaying the first 5 rows\n",
    "\n",
    "df = pd.read_csv('BikeCrash.csv')\n",
    "df.head()"
   ]
  },
  {
   "cell_type": "markdown",
   "id": "2b7293c7",
   "metadata": {},
   "source": [
    "# Understanding the dataset"
   ]
  },
  {
   "cell_type": "code",
   "execution_count": 3,
   "id": "114b4395",
   "metadata": {},
   "outputs": [
    {
     "data": {
      "text/plain": [
       "(2463, 16)"
      ]
     },
     "execution_count": 3,
     "metadata": {},
     "output_type": "execute_result"
    }
   ],
   "source": [
    "# Checking the shape of the dataset\n",
    "\n",
    "df.shape"
   ]
  },
  {
   "cell_type": "markdown",
   "id": "0bd30b2b",
   "metadata": {},
   "source": [
    "The dataset contains a total of 2463 rows and 16 columns"
   ]
  },
  {
   "cell_type": "code",
   "execution_count": 4,
   "id": "191fe611",
   "metadata": {},
   "outputs": [
    {
     "data": {
      "text/plain": [
       "$1000 Damage to Any One Person's Property    0\n",
       "Active School Zone Flag                      0\n",
       "At Intersection Flag                         0\n",
       "Average Daily Traffic Amount                 0\n",
       "Construction Zone Flag                       0\n",
       "Crash Severity                               0\n",
       "Crash Time                                   0\n",
       "Crash Total Injury Count                     0\n",
       "Crash Year                                   0\n",
       "Day of Week                                  0\n",
       "Intersection Related                         0\n",
       "Roadway Part                                 0\n",
       "Speed Limit                                  0\n",
       "Surface Condition                            0\n",
       "Traffic Control Type                         0\n",
       "Person Helmet                                0\n",
       "dtype: int64"
      ]
     },
     "execution_count": 4,
     "metadata": {},
     "output_type": "execute_result"
    }
   ],
   "source": [
    "# Checking the Null Values\n",
    "\n",
    "df.isna().sum()"
   ]
  },
  {
   "cell_type": "markdown",
   "id": "1fc216a7",
   "metadata": {},
   "source": [
    "This dataset is not having any null values present in it. The data is present in each cell, however it might not be in correct format."
   ]
  },
  {
   "cell_type": "code",
   "execution_count": 5,
   "id": "5b3a8ab8",
   "metadata": {},
   "outputs": [
    {
     "name": "stdout",
     "output_type": "stream",
     "text": [
      "<class 'pandas.core.frame.DataFrame'>\n",
      "RangeIndex: 2463 entries, 0 to 2462\n",
      "Data columns (total 16 columns):\n",
      " #   Column                                     Non-Null Count  Dtype \n",
      "---  ------                                     --------------  ----- \n",
      " 0   $1000 Damage to Any One Person's Property  2463 non-null   object\n",
      " 1   Active School Zone Flag                    2463 non-null   object\n",
      " 2   At Intersection Flag                       2463 non-null   bool  \n",
      " 3   Average Daily Traffic Amount               2463 non-null   object\n",
      " 4   Construction Zone Flag                     2463 non-null   object\n",
      " 5   Crash Severity                             2463 non-null   object\n",
      " 6   Crash Time                                 2463 non-null   int64 \n",
      " 7   Crash Total Injury Count                   2463 non-null   int64 \n",
      " 8   Crash Year                                 2463 non-null   int64 \n",
      " 9   Day of Week                                2463 non-null   object\n",
      " 10  Intersection Related                       2463 non-null   object\n",
      " 11  Roadway Part                               2463 non-null   object\n",
      " 12  Speed Limit                                2463 non-null   int64 \n",
      " 13  Surface Condition                          2463 non-null   object\n",
      " 14  Traffic Control Type                       2463 non-null   object\n",
      " 15  Person Helmet                              2463 non-null   object\n",
      "dtypes: bool(1), int64(4), object(11)\n",
      "memory usage: 291.2+ KB\n"
     ]
    }
   ],
   "source": [
    "# Checking the datatypes of the variables\n",
    "\n",
    "df.info()"
   ]
  },
  {
   "cell_type": "markdown",
   "id": "4e72781d",
   "metadata": {},
   "source": [
    "From the above result we can observe that couple of variables are having different datatype than what was expected"
   ]
  },
  {
   "cell_type": "code",
   "execution_count": 6,
   "id": "6b0482ff",
   "metadata": {},
   "outputs": [
    {
     "data": {
      "text/plain": [
       "array(['15262', 'No Data', '22775', '34215', '160919', '44866', '115456',\n",
       "       '33647', '123443', '124466', '20895', '21351', '148494', '125081',\n",
       "       '49417', '44197', '197636', '52925', '124047', '164391', '29839',\n",
       "       '154266', '124527', '54574', '29304', '14685', '30932', '25507',\n",
       "       '118604', '50813', '179906', '34390', '162940', '41709', '87161',\n",
       "       '10943', '56417', '105589', '103160', '15613', '136130', '24711',\n",
       "       '113017', '37593', '38439', '39107', '26658', '29344', '52868',\n",
       "       '4300', '118676', '23804', '22613', '35009', '174473', '172066',\n",
       "       '25436', '122507', '55791', '130691', '180878', '20818', '22725',\n",
       "       '139928', '51598', '106597', '27085', '25860', '69369', '34328',\n",
       "       '64902', '18049', '25277', '68363', '142526', '116198', '118571',\n",
       "       '25921', '46918', '49720', '141120'], dtype=object)"
      ]
     },
     "execution_count": 6,
     "metadata": {},
     "output_type": "execute_result"
    }
   ],
   "source": [
    "df['Average Daily Traffic Amount'].unique()  # Column value as 'No Data' is present which is similar to NULL"
   ]
  },
  {
   "cell_type": "code",
   "execution_count": 7,
   "id": "10079da6",
   "metadata": {},
   "outputs": [
    {
     "data": {
      "text/plain": [
       "array(['Incapacitating Injury', 'Non-Incapacitating Injury',\n",
       "       'Possible Injury', 'Not Injured', 'Killed'], dtype=object)"
      ]
     },
     "execution_count": 7,
     "metadata": {},
     "output_type": "execute_result"
    }
   ],
   "source": [
    "df['Crash Severity'].unique()   # Unique values for Crash Severity"
   ]
  },
  {
   "cell_type": "code",
   "execution_count": 8,
   "id": "8c2d7b4b",
   "metadata": {},
   "outputs": [
    {
     "data": {
      "text/plain": [
       "array([ 239,  310, 2300, 1408, 1715, 1826, 2104, 1814, 1124, 1605, 1739,\n",
       "       1435, 1618,  439, 1742, 1651,  722,  758, 1658, 1315, 1216, 1945,\n",
       "       1126, 1840, 1152, 1543, 1654,  650,  230, 1734, 1541, 1420, 1737,\n",
       "       1136,  608, 1325, 2326, 2025, 1140, 2123, 1753,  227, 1934, 1711,\n",
       "       2045, 1442,  107, 1621, 2129, 2115, 1623, 1112, 1800, 1831, 1903,\n",
       "       1732,  448,  916,  104,  949,  106,  837, 1402,  851, 1359, 1722,\n",
       "        919, 1643,  940, 1941, 1154, 1813, 1239, 1825, 1300, 2120, 1627,\n",
       "       1130, 1538, 1240, 1650, 2205, 1736, 1545, 2119, 1404, 1600,  844,\n",
       "       1337, 1644, 1900, 2042,  400, 1206, 1153, 1201, 1851, 1455, 1927,\n",
       "       1629, 2339, 2138,   37,  307, 1743, 1029, 1256, 1051,  231,  709,\n",
       "       1929, 2136, 1642, 1827,  812,  939, 1514, 1915,  235, 1922, 1052,\n",
       "       1920, 1203, 1040, 2349,  854, 1217, 1255,  750, 1324, 2118, 2107,\n",
       "       1833,  715, 1339, 2250, 1449, 1210, 1727,  253, 1720,  738,  148,\n",
       "        225, 2055,  725, 1427, 2238, 1805, 2032, 1200,  242,  724, 1232,\n",
       "       1245, 1830, 1809, 1005, 1314, 1447, 1020,  838, 2038, 1928, 2114,\n",
       "       2022,  733, 1138, 2046,  119, 1552, 1845, 1036, 1646, 1754, 1848,\n",
       "       1738, 2321, 1940,  802, 1247,  108, 1916, 1835, 1001,  755, 1758,\n",
       "       2213,  621,   40, 1804,  729, 1704, 1733,  835, 1149, 1806, 1614,\n",
       "       1026, 1018, 1440, 1355, 1540, 2139, 1532, 1317, 2122, 1502, 1344,\n",
       "       1735, 1745,  417, 1910, 1205,  217,  900,  300, 1358, 1639, 1219,\n",
       "       1412,  720, 1740, 2140, 1843, 1453,  855, 2219,  814, 1907, 1500,\n",
       "       1936, 1544,  630, 1747, 1943,  959, 1717,  223, 1535, 1749, 1853,\n",
       "       2030, 1902, 1125, 1637,  909, 1930, 1719, 1410, 1721, 1703, 1252,\n",
       "       1310,  846, 2007, 1708, 1632, 2020, 1141,  922, 2036, 2132,  247,\n",
       "       1706, 1931,  130, 1828, 1554, 2333,  910,  102, 1158, 1528, 2008,\n",
       "        711, 1336, 2110, 1505, 1446, 1918, 1104,  827,  654, 2148,  918,\n",
       "       1451, 1716,  836, 2044, 2106, 1415, 1537,  832,  747, 1607,  930,\n",
       "        202, 2031, 1457,  806, 1641, 1904, 1750,  653, 1510, 2344, 1209,\n",
       "       1755, 1159,  850, 1000, 1509, 1403,   14,  842, 1952, 1504, 1724,\n",
       "       1220, 1709, 1956, 2058,  254,  408, 1730, 1346, 1625,  120, 1914,\n",
       "       1016, 1512, 1520, 1521,   56, 1559,  237,  805, 1548, 1351, 1115,\n",
       "       1244, 1935, 1215, 1844, 1534, 1429, 1038, 2355,  123, 1350, 1626,\n",
       "       1257, 1558, 1515, 1425, 1503, 2130,  803,  830, 1010,  748, 1917,\n",
       "        105, 1318,  226,  245, 1343, 1542, 1807, 2230,  752, 1511, 1419,\n",
       "       2035,  134, 2049, 1417,  821, 1237, 2056, 1330, 1250, 2330,  216,\n",
       "       2101, 1901, 2203, 2126, 1037, 2200,  702, 1223,  708, 2217, 1731,\n",
       "        800, 1405, 1150, 1108, 1728,  938, 2142,  945, 2029,  953, 2252,\n",
       "       1234,  823, 1808, 1849, 2309, 1349,  222,  524, 2303,  818, 1100,\n",
       "       1331, 1824, 1645, 1812,  829, 1624,  840, 1208, 1329, 1756, 1713,\n",
       "       2151, 2147, 1553, 1822, 1834,  811, 1714,  810,  345,  347, 1757,\n",
       "       1506,  721, 1950, 2315, 2332, 1832, 1547,  808, 1459, 1551, 1647,\n",
       "       1028, 2358,  935, 2226, 1235, 1818,  825, 1707, 1649, 1418, 1617,\n",
       "       1128, 2113, 1302,  917, 1322, 1906, 1939, 1948,  656,   19,  839,\n",
       "       1313, 1905, 1146, 1819, 2013, 1212,  920, 2314, 1957, 1533, 1823,\n",
       "        705, 2229, 1748, 1155, 1050,  250, 1039, 2204,   29, 1821,  629,\n",
       "        957,  335, 1746,  142, 2225, 1729, 1013, 1938,  833, 2302, 1556,\n",
       "       1058, 1925, 1854, 1042,  958, 1450, 2223, 1705,  539,  221, 1348,\n",
       "        719,  906, 1508,  901,  931,  726, 1712, 1501, 1011, 1303,  700,\n",
       "        856, 1259, 1400,  741, 2010, 2111, 2307, 1837, 2228, 1951,  824,\n",
       "        757,  932, 1702,  325, 2145, 1726,  831,    1, 1946, 1151, 1258,\n",
       "       2105, 2353, 1110,   50, 1620,  828,  742, 1842, 2015,   46,  843,\n",
       "        951,  924, 2218, 1354,  540, 1432, 1243,  435, 1305,  606,  954,\n",
       "       1803, 1530, 2159, 1536, 1008,  431, 2131,   57,  727, 1345, 1921,\n",
       "        241,  826, 1014, 1858,  639,   20, 1335, 1147, 1759, 2337,  759,\n",
       "       1101, 1204, 1852, 1602, 1924, 1919, 1636,  740, 1710,  754, 1516,\n",
       "       1221, 1117,  244, 2259, 1407,  636, 1437, 1622, 1609, 1557, 2011,\n",
       "       2242,  914, 1225, 1655, 1341,  813, 1517,  847,  822, 1526, 1222,\n",
       "        716,  114, 1608, 1944,   12, 1357,  156, 2233, 1448, 1855,    6,\n",
       "       1445, 1610, 1700, 1424, 1436, 1954, 2348, 1648, 2133, 1937, 1414,\n",
       "       1615,  213, 1838, 1015, 1527, 1616, 1529,   15, 1656, 2019,  617,\n",
       "         10, 1430, 1913, 2158, 1630, 1718, 1251,  425,  734, 1555, 2317,\n",
       "       1413, 2210, 1434,  212, 1701, 1113, 1802, 1604, 1045, 2014, 1107,\n",
       "        652, 2258, 1054,  140,  928, 1120, 1249,  804,  942, 1012, 1311,\n",
       "        418, 2100, 1227,  103, 1103,  845, 2237,  615, 1751,  243, 1640,\n",
       "       1933, 1423, 1308,  815,  841,  948, 2240, 1635,  923, 2313,  252,\n",
       "       2128, 2048, 1856, 1839,   26, 1846,  125, 1633,  852, 1333,  736,\n",
       "       1909,   24, 2334, 1546, 1611,  122, 1811,  950, 1327,  848, 1129,\n",
       "       1224,  704, 2040, 1309,   52, 1634,  819,  925,  158, 1230, 2002,\n",
       "       2209, 1653, 1531, 1507, 1342, 1053,  126,  735, 1352,  955, 2206,\n",
       "         23, 1025, 1949,  905, 1638,  437, 1958, 2236, 1214, 1953,  737,\n",
       "       2039,  956,  203,  801, 1316, 2009, 1513, 2308, 2256, 1406, 1248,\n",
       "       1458,  857, 2005, 1004,  544, 2211, 2102, 1105, 1426,  820, 1612,\n",
       "        224,  933, 2247,  613, 1236,   45, 2255, 1057, 1820, 2041, 1416,\n",
       "        946, 2003, 2155, 2208,  228, 1659, 1035, 2246, 1148, 1549,  853,\n",
       "       1030, 2222, 2021, 2017, 1320, 1652,  834, 2027, 1228, 1218, 1246,\n",
       "       1631, 2033,  718, 2023,  635,  538, 1047, 1525, 1142, 1119,  756,\n",
       "       1923,  502, 1229,   36,   30,  251, 1912,  545, 1319, 2016, 2116,\n",
       "       1947, 1431,   17,  706, 2037,  658, 1613, 1143, 2143, 1238, 2109,\n",
       "       1815,  749, 1031,  414,  509, 1233, 2354,  731, 2320,  603, 1926,\n",
       "        344, 2214, 2024, 2149, 1829, 2304, 1304, 1932, 1454, 1519, 2000,\n",
       "        858,  903, 1601, 2254, 1102,  554, 2356, 1253,  631, 1231, 1134,\n",
       "        730, 1421, 1744, 1411, 1023, 2221, 2248, 1009,  626, 2311,  530,\n",
       "       1114, 1522,   31, 1438,  152,  817, 1106, 2047,  739, 1723, 1443,\n",
       "        927, 2335, 1816, 2137, 1550, 1911, 2234,  646,  204, 1441,  607,\n",
       "        628, 2034, 1027, 1628, 1725,   32,  116,   58, 2216,  859,  618,\n",
       "        728, 1356, 1002,  937, 2301, 1657, 1801,  926,  100, 2212, 1452,\n",
       "       1836, 2103, 1139, 2331, 1847, 1043,  153,  902, 1524,  751, 2112,\n",
       "       2202, 2342, 2108, 1144,  229, 2220, 1456,  746,  713,  943, 1024,\n",
       "       1312,  536,  238,  645,   48, 2207,  753,  717, 1034, 1049, 1959,\n",
       "       2243, 2052,   21,  257, 1444,  936, 1518, 1955, 2127, 2325, 1810,\n",
       "       2028, 1254])"
      ]
     },
     "execution_count": 8,
     "metadata": {},
     "output_type": "execute_result"
    }
   ],
   "source": [
    "df['Crash Time'].unique()  # this is supposed to be a time data in 24-hour format"
   ]
  },
  {
   "cell_type": "code",
   "execution_count": 9,
   "id": "b3cea4dd",
   "metadata": {},
   "outputs": [
    {
     "data": {
      "text/plain": [
       "array([2010, 2011, 2012, 2013, 2014, 2015, 2016, 2017])"
      ]
     },
     "execution_count": 9,
     "metadata": {},
     "output_type": "execute_result"
    }
   ],
   "source": [
    "df['Crash Year'].unique()"
   ]
  },
  {
   "cell_type": "markdown",
   "id": "7f56778e",
   "metadata": {},
   "source": [
    "__Crashes has been recorded from year 2010 to 2017__"
   ]
  },
  {
   "cell_type": "code",
   "execution_count": 10,
   "id": "edcdfe7e",
   "metadata": {},
   "outputs": [
    {
     "data": {
      "text/plain": [
       "array(['Non Intersection', 'Intersection Related', 'Driveway Access',\n",
       "       'Intersection', 'Not Reported'], dtype=object)"
      ]
     },
     "execution_count": 10,
     "metadata": {},
     "output_type": "execute_result"
    }
   ],
   "source": [
    "df['Intersection Related'].unique()"
   ]
  },
  {
   "cell_type": "code",
   "execution_count": 11,
   "id": "b318c26f",
   "metadata": {},
   "outputs": [
    {
     "data": {
      "text/plain": [
       "array(['Main/Proper Lane', 'Service/Frontage Road',\n",
       "       'Other (Explain In Narrative)', 'Entrance/On Ramp'], dtype=object)"
      ]
     },
     "execution_count": 11,
     "metadata": {},
     "output_type": "execute_result"
    }
   ],
   "source": [
    "df['Roadway Part'].unique()"
   ]
  },
  {
   "cell_type": "code",
   "execution_count": 12,
   "id": "bb430c17",
   "metadata": {},
   "outputs": [
    {
     "data": {
      "text/plain": [
       "[-1, 0, 5, 10, 15, 20, 25, 30, 32, 35, 36, 40, 45, 50, 55, 60, 65]"
      ]
     },
     "execution_count": 12,
     "metadata": {},
     "output_type": "execute_result"
    }
   ],
   "source": [
    "sorted(df['Speed Limit'].unique())   # -1 is a possible incorrect value"
   ]
  },
  {
   "cell_type": "code",
   "execution_count": 13,
   "id": "35c5a6dc",
   "metadata": {},
   "outputs": [
    {
     "data": {
      "text/plain": [
       "array(['Worn, Damaged', 'Not Worn', 'Worn, Unk Damage', 'Unknown If Worn',\n",
       "       'Worn, Not Damaged'], dtype=object)"
      ]
     },
     "execution_count": 13,
     "metadata": {},
     "output_type": "execute_result"
    }
   ],
   "source": [
    "df['Person Helmet'].unique()"
   ]
  },
  {
   "cell_type": "markdown",
   "id": "a0e5f416",
   "metadata": {},
   "source": [
    "# Data Cleaning"
   ]
  },
  {
   "cell_type": "code",
   "execution_count": 14,
   "id": "d9865731",
   "metadata": {},
   "outputs": [],
   "source": [
    "# Imputing mean value where 'Average Daily Traffic Amount' is 'No Data'\n",
    "\n",
    "df.loc[df['Average Daily Traffic Amount'] == 'No Data', 'Average Daily Traffic Amount'] = np.nan\n",
    "df['Average Daily Traffic Amount'] = df['Average Daily Traffic Amount'].astype(float)\n",
    "df['Average Daily Traffic Amount'].fillna(df['Average Daily Traffic Amount'].median(), inplace = True)"
   ]
  },
  {
   "cell_type": "code",
   "execution_count": 15,
   "id": "eab0fcb6",
   "metadata": {},
   "outputs": [
    {
     "data": {
      "text/html": [
       "<div>\n",
       "<style scoped>\n",
       "    .dataframe tbody tr th:only-of-type {\n",
       "        vertical-align: middle;\n",
       "    }\n",
       "\n",
       "    .dataframe tbody tr th {\n",
       "        vertical-align: top;\n",
       "    }\n",
       "\n",
       "    .dataframe thead th {\n",
       "        text-align: right;\n",
       "    }\n",
       "</style>\n",
       "<table border=\"1\" class=\"dataframe\">\n",
       "  <thead>\n",
       "    <tr style=\"text-align: right;\">\n",
       "      <th></th>\n",
       "      <th>Average Daily Traffic Amount</th>\n",
       "      <th>Crash Time</th>\n",
       "      <th>Crash Total Injury Count</th>\n",
       "      <th>Crash Year</th>\n",
       "      <th>Speed Limit</th>\n",
       "    </tr>\n",
       "  </thead>\n",
       "  <tbody>\n",
       "    <tr>\n",
       "      <th>count</th>\n",
       "      <td>2463.000000</td>\n",
       "      <td>2463.000000</td>\n",
       "      <td>2463.000000</td>\n",
       "      <td>2463.000000</td>\n",
       "      <td>2463.000000</td>\n",
       "    </tr>\n",
       "    <tr>\n",
       "      <th>mean</th>\n",
       "      <td>43053.683719</td>\n",
       "      <td>1404.700771</td>\n",
       "      <td>1.092164</td>\n",
       "      <td>2013.403979</td>\n",
       "      <td>26.410881</td>\n",
       "    </tr>\n",
       "    <tr>\n",
       "      <th>std</th>\n",
       "      <td>23693.279111</td>\n",
       "      <td>558.967560</td>\n",
       "      <td>1.208230</td>\n",
       "      <td>2.248480</td>\n",
       "      <td>17.005282</td>\n",
       "    </tr>\n",
       "    <tr>\n",
       "      <th>min</th>\n",
       "      <td>4300.000000</td>\n",
       "      <td>1.000000</td>\n",
       "      <td>0.000000</td>\n",
       "      <td>2010.000000</td>\n",
       "      <td>-1.000000</td>\n",
       "    </tr>\n",
       "    <tr>\n",
       "      <th>25%</th>\n",
       "      <td>38439.000000</td>\n",
       "      <td>1008.000000</td>\n",
       "      <td>1.000000</td>\n",
       "      <td>2011.000000</td>\n",
       "      <td>0.000000</td>\n",
       "    </tr>\n",
       "    <tr>\n",
       "      <th>50%</th>\n",
       "      <td>38439.000000</td>\n",
       "      <td>1532.000000</td>\n",
       "      <td>1.000000</td>\n",
       "      <td>2013.000000</td>\n",
       "      <td>30.000000</td>\n",
       "    </tr>\n",
       "    <tr>\n",
       "      <th>75%</th>\n",
       "      <td>38439.000000</td>\n",
       "      <td>1822.500000</td>\n",
       "      <td>1.000000</td>\n",
       "      <td>2015.000000</td>\n",
       "      <td>35.000000</td>\n",
       "    </tr>\n",
       "    <tr>\n",
       "      <th>max</th>\n",
       "      <td>197636.000000</td>\n",
       "      <td>2358.000000</td>\n",
       "      <td>15.000000</td>\n",
       "      <td>2017.000000</td>\n",
       "      <td>65.000000</td>\n",
       "    </tr>\n",
       "  </tbody>\n",
       "</table>\n",
       "</div>"
      ],
      "text/plain": [
       "       Average Daily Traffic Amount   Crash Time  Crash Total Injury Count  \\\n",
       "count                   2463.000000  2463.000000               2463.000000   \n",
       "mean                   43053.683719  1404.700771                  1.092164   \n",
       "std                    23693.279111   558.967560                  1.208230   \n",
       "min                     4300.000000     1.000000                  0.000000   \n",
       "25%                    38439.000000  1008.000000                  1.000000   \n",
       "50%                    38439.000000  1532.000000                  1.000000   \n",
       "75%                    38439.000000  1822.500000                  1.000000   \n",
       "max                   197636.000000  2358.000000                 15.000000   \n",
       "\n",
       "        Crash Year  Speed Limit  \n",
       "count  2463.000000  2463.000000  \n",
       "mean   2013.403979    26.410881  \n",
       "std       2.248480    17.005282  \n",
       "min    2010.000000    -1.000000  \n",
       "25%    2011.000000     0.000000  \n",
       "50%    2013.000000    30.000000  \n",
       "75%    2015.000000    35.000000  \n",
       "max    2017.000000    65.000000  "
      ]
     },
     "execution_count": 15,
     "metadata": {},
     "output_type": "execute_result"
    }
   ],
   "source": [
    "df.describe()"
   ]
  },
  {
   "cell_type": "code",
   "execution_count": 16,
   "id": "125d27c2",
   "metadata": {},
   "outputs": [],
   "source": [
    "df.loc[df['Speed Limit'] == -1,'Speed Limit'] = 0"
   ]
  },
  {
   "cell_type": "code",
   "execution_count": 17,
   "id": "8ad10f6c",
   "metadata": {},
   "outputs": [
    {
     "data": {
      "text/html": [
       "<div>\n",
       "<style scoped>\n",
       "    .dataframe tbody tr th:only-of-type {\n",
       "        vertical-align: middle;\n",
       "    }\n",
       "\n",
       "    .dataframe tbody tr th {\n",
       "        vertical-align: top;\n",
       "    }\n",
       "\n",
       "    .dataframe thead th {\n",
       "        text-align: right;\n",
       "    }\n",
       "</style>\n",
       "<table border=\"1\" class=\"dataframe\">\n",
       "  <thead>\n",
       "    <tr style=\"text-align: right;\">\n",
       "      <th></th>\n",
       "      <th>$1000 Damage to Any One Person's Property</th>\n",
       "      <th>Active School Zone Flag</th>\n",
       "      <th>At Intersection Flag</th>\n",
       "      <th>Average Daily Traffic Amount</th>\n",
       "      <th>Construction Zone Flag</th>\n",
       "      <th>Crash Severity</th>\n",
       "      <th>Crash Time</th>\n",
       "      <th>Crash Total Injury Count</th>\n",
       "      <th>Crash Year</th>\n",
       "      <th>Day of Week</th>\n",
       "      <th>Intersection Related</th>\n",
       "      <th>Roadway Part</th>\n",
       "      <th>Speed Limit</th>\n",
       "      <th>Surface Condition</th>\n",
       "      <th>Traffic Control Type</th>\n",
       "      <th>Person Helmet</th>\n",
       "    </tr>\n",
       "  </thead>\n",
       "  <tbody>\n",
       "    <tr>\n",
       "      <th>5</th>\n",
       "      <td>No</td>\n",
       "      <td>No</td>\n",
       "      <td>True</td>\n",
       "      <td>38439.0</td>\n",
       "      <td>No</td>\n",
       "      <td>Non-Incapacitating Injury</td>\n",
       "      <td>1408</td>\n",
       "      <td>1</td>\n",
       "      <td>2010</td>\n",
       "      <td>Wednesday</td>\n",
       "      <td>Driveway Access</td>\n",
       "      <td>Main/Proper Lane</td>\n",
       "      <td>0</td>\n",
       "      <td>Wet</td>\n",
       "      <td>Signal Light</td>\n",
       "      <td>Not Worn</td>\n",
       "    </tr>\n",
       "    <tr>\n",
       "      <th>13</th>\n",
       "      <td>No</td>\n",
       "      <td>No</td>\n",
       "      <td>False</td>\n",
       "      <td>38439.0</td>\n",
       "      <td>No</td>\n",
       "      <td>Non-Incapacitating Injury</td>\n",
       "      <td>1435</td>\n",
       "      <td>1</td>\n",
       "      <td>2010</td>\n",
       "      <td>Wednesday</td>\n",
       "      <td>Driveway Access</td>\n",
       "      <td>Other (Explain In Narrative)</td>\n",
       "      <td>0</td>\n",
       "      <td>Dry</td>\n",
       "      <td>Stop Sign</td>\n",
       "      <td>Not Worn</td>\n",
       "    </tr>\n",
       "    <tr>\n",
       "      <th>21</th>\n",
       "      <td>No</td>\n",
       "      <td>No</td>\n",
       "      <td>True</td>\n",
       "      <td>38439.0</td>\n",
       "      <td>No</td>\n",
       "      <td>Non-Incapacitating Injury</td>\n",
       "      <td>1315</td>\n",
       "      <td>1</td>\n",
       "      <td>2010</td>\n",
       "      <td>Saturday</td>\n",
       "      <td>Intersection</td>\n",
       "      <td>Main/Proper Lane</td>\n",
       "      <td>0</td>\n",
       "      <td>Dry</td>\n",
       "      <td>Signal Light</td>\n",
       "      <td>Not Worn</td>\n",
       "    </tr>\n",
       "    <tr>\n",
       "      <th>39</th>\n",
       "      <td>No</td>\n",
       "      <td>No</td>\n",
       "      <td>True</td>\n",
       "      <td>38439.0</td>\n",
       "      <td>No</td>\n",
       "      <td>Non-Incapacitating Injury</td>\n",
       "      <td>1325</td>\n",
       "      <td>1</td>\n",
       "      <td>2010</td>\n",
       "      <td>Tuesday</td>\n",
       "      <td>Intersection</td>\n",
       "      <td>Main/Proper Lane</td>\n",
       "      <td>0</td>\n",
       "      <td>Dry</td>\n",
       "      <td>Stop Sign</td>\n",
       "      <td>Worn, Unk Damage</td>\n",
       "    </tr>\n",
       "    <tr>\n",
       "      <th>43</th>\n",
       "      <td>No</td>\n",
       "      <td>No</td>\n",
       "      <td>False</td>\n",
       "      <td>38439.0</td>\n",
       "      <td>No</td>\n",
       "      <td>Possible Injury</td>\n",
       "      <td>2123</td>\n",
       "      <td>1</td>\n",
       "      <td>2010</td>\n",
       "      <td>Monday</td>\n",
       "      <td>Non Intersection</td>\n",
       "      <td>Main/Proper Lane</td>\n",
       "      <td>0</td>\n",
       "      <td>Unknown</td>\n",
       "      <td>None</td>\n",
       "      <td>Not Worn</td>\n",
       "    </tr>\n",
       "    <tr>\n",
       "      <th>...</th>\n",
       "      <td>...</td>\n",
       "      <td>...</td>\n",
       "      <td>...</td>\n",
       "      <td>...</td>\n",
       "      <td>...</td>\n",
       "      <td>...</td>\n",
       "      <td>...</td>\n",
       "      <td>...</td>\n",
       "      <td>...</td>\n",
       "      <td>...</td>\n",
       "      <td>...</td>\n",
       "      <td>...</td>\n",
       "      <td>...</td>\n",
       "      <td>...</td>\n",
       "      <td>...</td>\n",
       "      <td>...</td>\n",
       "    </tr>\n",
       "    <tr>\n",
       "      <th>2448</th>\n",
       "      <td>No</td>\n",
       "      <td>No</td>\n",
       "      <td>True</td>\n",
       "      <td>29839.0</td>\n",
       "      <td>No</td>\n",
       "      <td>Non-Incapacitating Injury</td>\n",
       "      <td>2038</td>\n",
       "      <td>1</td>\n",
       "      <td>2017</td>\n",
       "      <td>Tuesday</td>\n",
       "      <td>Intersection Related</td>\n",
       "      <td>Main/Proper Lane</td>\n",
       "      <td>0</td>\n",
       "      <td>Dry</td>\n",
       "      <td>Stop Sign</td>\n",
       "      <td>Not Worn</td>\n",
       "    </tr>\n",
       "    <tr>\n",
       "      <th>2449</th>\n",
       "      <td>No</td>\n",
       "      <td>No</td>\n",
       "      <td>True</td>\n",
       "      <td>38439.0</td>\n",
       "      <td>No</td>\n",
       "      <td>Possible Injury</td>\n",
       "      <td>1935</td>\n",
       "      <td>1</td>\n",
       "      <td>2017</td>\n",
       "      <td>Friday</td>\n",
       "      <td>Intersection</td>\n",
       "      <td>Main/Proper Lane</td>\n",
       "      <td>0</td>\n",
       "      <td>Dry</td>\n",
       "      <td>None</td>\n",
       "      <td>Not Worn</td>\n",
       "    </tr>\n",
       "    <tr>\n",
       "      <th>2454</th>\n",
       "      <td>Yes</td>\n",
       "      <td>No</td>\n",
       "      <td>True</td>\n",
       "      <td>38439.0</td>\n",
       "      <td>No</td>\n",
       "      <td>Possible Injury</td>\n",
       "      <td>1732</td>\n",
       "      <td>1</td>\n",
       "      <td>2017</td>\n",
       "      <td>Thursday</td>\n",
       "      <td>Intersection Related</td>\n",
       "      <td>Main/Proper Lane</td>\n",
       "      <td>0</td>\n",
       "      <td>Dry</td>\n",
       "      <td>None</td>\n",
       "      <td>Worn, Not Damaged</td>\n",
       "    </tr>\n",
       "    <tr>\n",
       "      <th>2459</th>\n",
       "      <td>No</td>\n",
       "      <td>No</td>\n",
       "      <td>True</td>\n",
       "      <td>38439.0</td>\n",
       "      <td>No</td>\n",
       "      <td>Non-Incapacitating Injury</td>\n",
       "      <td>2048</td>\n",
       "      <td>1</td>\n",
       "      <td>2017</td>\n",
       "      <td>Tuesday</td>\n",
       "      <td>Non Intersection</td>\n",
       "      <td>Main/Proper Lane</td>\n",
       "      <td>0</td>\n",
       "      <td>Dry</td>\n",
       "      <td>Center Stripe/Divider</td>\n",
       "      <td>Not Worn</td>\n",
       "    </tr>\n",
       "    <tr>\n",
       "      <th>2461</th>\n",
       "      <td>Yes</td>\n",
       "      <td>No</td>\n",
       "      <td>True</td>\n",
       "      <td>38439.0</td>\n",
       "      <td>No</td>\n",
       "      <td>Non-Incapacitating Injury</td>\n",
       "      <td>930</td>\n",
       "      <td>1</td>\n",
       "      <td>2017</td>\n",
       "      <td>Friday</td>\n",
       "      <td>Intersection</td>\n",
       "      <td>Main/Proper Lane</td>\n",
       "      <td>0</td>\n",
       "      <td>Dry</td>\n",
       "      <td>Stop Sign</td>\n",
       "      <td>Worn, Unk Damage</td>\n",
       "    </tr>\n",
       "  </tbody>\n",
       "</table>\n",
       "<p>622 rows × 16 columns</p>\n",
       "</div>"
      ],
      "text/plain": [
       "     $1000 Damage to Any One Person's Property Active School Zone Flag  \\\n",
       "5                                           No                      No   \n",
       "13                                          No                      No   \n",
       "21                                          No                      No   \n",
       "39                                          No                      No   \n",
       "43                                          No                      No   \n",
       "...                                        ...                     ...   \n",
       "2448                                        No                      No   \n",
       "2449                                        No                      No   \n",
       "2454                                       Yes                      No   \n",
       "2459                                        No                      No   \n",
       "2461                                       Yes                      No   \n",
       "\n",
       "      At Intersection Flag  Average Daily Traffic Amount  \\\n",
       "5                     True                       38439.0   \n",
       "13                   False                       38439.0   \n",
       "21                    True                       38439.0   \n",
       "39                    True                       38439.0   \n",
       "43                   False                       38439.0   \n",
       "...                    ...                           ...   \n",
       "2448                  True                       29839.0   \n",
       "2449                  True                       38439.0   \n",
       "2454                  True                       38439.0   \n",
       "2459                  True                       38439.0   \n",
       "2461                  True                       38439.0   \n",
       "\n",
       "     Construction Zone Flag             Crash Severity  Crash Time  \\\n",
       "5                        No  Non-Incapacitating Injury        1408   \n",
       "13                       No  Non-Incapacitating Injury        1435   \n",
       "21                       No  Non-Incapacitating Injury        1315   \n",
       "39                       No  Non-Incapacitating Injury        1325   \n",
       "43                       No            Possible Injury        2123   \n",
       "...                     ...                        ...         ...   \n",
       "2448                     No  Non-Incapacitating Injury        2038   \n",
       "2449                     No            Possible Injury        1935   \n",
       "2454                     No            Possible Injury        1732   \n",
       "2459                     No  Non-Incapacitating Injury        2048   \n",
       "2461                     No  Non-Incapacitating Injury         930   \n",
       "\n",
       "      Crash Total Injury Count  Crash Year Day of Week  Intersection Related  \\\n",
       "5                            1        2010   Wednesday       Driveway Access   \n",
       "13                           1        2010   Wednesday       Driveway Access   \n",
       "21                           1        2010    Saturday          Intersection   \n",
       "39                           1        2010     Tuesday          Intersection   \n",
       "43                           1        2010      Monday      Non Intersection   \n",
       "...                        ...         ...         ...                   ...   \n",
       "2448                         1        2017     Tuesday  Intersection Related   \n",
       "2449                         1        2017      Friday          Intersection   \n",
       "2454                         1        2017    Thursday  Intersection Related   \n",
       "2459                         1        2017     Tuesday      Non Intersection   \n",
       "2461                         1        2017      Friday          Intersection   \n",
       "\n",
       "                      Roadway Part  Speed Limit Surface Condition  \\\n",
       "5                 Main/Proper Lane            0               Wet   \n",
       "13    Other (Explain In Narrative)            0               Dry   \n",
       "21                Main/Proper Lane            0               Dry   \n",
       "39                Main/Proper Lane            0               Dry   \n",
       "43                Main/Proper Lane            0           Unknown   \n",
       "...                            ...          ...               ...   \n",
       "2448              Main/Proper Lane            0               Dry   \n",
       "2449              Main/Proper Lane            0               Dry   \n",
       "2454              Main/Proper Lane            0               Dry   \n",
       "2459              Main/Proper Lane            0               Dry   \n",
       "2461              Main/Proper Lane            0               Dry   \n",
       "\n",
       "       Traffic Control Type      Person Helmet  \n",
       "5              Signal Light           Not Worn  \n",
       "13                Stop Sign           Not Worn  \n",
       "21             Signal Light           Not Worn  \n",
       "39                Stop Sign   Worn, Unk Damage  \n",
       "43                     None           Not Worn  \n",
       "...                     ...                ...  \n",
       "2448              Stop Sign           Not Worn  \n",
       "2449                   None           Not Worn  \n",
       "2454                   None  Worn, Not Damaged  \n",
       "2459  Center Stripe/Divider           Not Worn  \n",
       "2461              Stop Sign   Worn, Unk Damage  \n",
       "\n",
       "[622 rows x 16 columns]"
      ]
     },
     "execution_count": 17,
     "metadata": {},
     "output_type": "execute_result"
    }
   ],
   "source": [
    "df[df['Speed Limit'] == 0]"
   ]
  },
  {
   "cell_type": "markdown",
   "id": "167c419d",
   "metadata": {},
   "source": [
    "# Data Preparation for Classification"
   ]
  },
  {
   "cell_type": "code",
   "execution_count": 18,
   "id": "bbec0135",
   "metadata": {},
   "outputs": [],
   "source": [
    "from sklearn.preprocessing import LabelEncoder\n",
    "le = LabelEncoder()"
   ]
  },
  {
   "cell_type": "code",
   "execution_count": 19,
   "id": "2e9c0077",
   "metadata": {},
   "outputs": [],
   "source": [
    "df_new = df\n",
    "cat_var = df_new.columns[df_new.dtypes == object]\n",
    "bool_var = df_new.columns[df_new.dtypes == bool]\n",
    "df_new[cat_var] = df_new[cat_var].apply(le.fit_transform)\n",
    "df_new[bool_var] = df_new[bool_var].apply(le.fit_transform)"
   ]
  },
  {
   "cell_type": "code",
   "execution_count": 20,
   "id": "d9dfbca0",
   "metadata": {},
   "outputs": [
    {
     "data": {
      "text/html": [
       "<div>\n",
       "<style scoped>\n",
       "    .dataframe tbody tr th:only-of-type {\n",
       "        vertical-align: middle;\n",
       "    }\n",
       "\n",
       "    .dataframe tbody tr th {\n",
       "        vertical-align: top;\n",
       "    }\n",
       "\n",
       "    .dataframe thead th {\n",
       "        text-align: right;\n",
       "    }\n",
       "</style>\n",
       "<table border=\"1\" class=\"dataframe\">\n",
       "  <thead>\n",
       "    <tr style=\"text-align: right;\">\n",
       "      <th></th>\n",
       "      <th>$1000 Damage to Any One Person's Property</th>\n",
       "      <th>Active School Zone Flag</th>\n",
       "      <th>At Intersection Flag</th>\n",
       "      <th>Average Daily Traffic Amount</th>\n",
       "      <th>Construction Zone Flag</th>\n",
       "      <th>Crash Severity</th>\n",
       "      <th>Crash Time</th>\n",
       "      <th>Crash Total Injury Count</th>\n",
       "      <th>Crash Year</th>\n",
       "      <th>Day of Week</th>\n",
       "      <th>Intersection Related</th>\n",
       "      <th>Roadway Part</th>\n",
       "      <th>Speed Limit</th>\n",
       "      <th>Surface Condition</th>\n",
       "      <th>Traffic Control Type</th>\n",
       "      <th>Person Helmet</th>\n",
       "    </tr>\n",
       "  </thead>\n",
       "  <tbody>\n",
       "    <tr>\n",
       "      <th>0</th>\n",
       "      <td>0</td>\n",
       "      <td>0</td>\n",
       "      <td>0</td>\n",
       "      <td>15262.0</td>\n",
       "      <td>0</td>\n",
       "      <td>0</td>\n",
       "      <td>239</td>\n",
       "      <td>1</td>\n",
       "      <td>2010</td>\n",
       "      <td>0</td>\n",
       "      <td>3</td>\n",
       "      <td>1</td>\n",
       "      <td>45</td>\n",
       "      <td>0</td>\n",
       "      <td>6</td>\n",
       "      <td>2</td>\n",
       "    </tr>\n",
       "    <tr>\n",
       "      <th>1</th>\n",
       "      <td>0</td>\n",
       "      <td>0</td>\n",
       "      <td>0</td>\n",
       "      <td>38439.0</td>\n",
       "      <td>0</td>\n",
       "      <td>2</td>\n",
       "      <td>310</td>\n",
       "      <td>2</td>\n",
       "      <td>2010</td>\n",
       "      <td>0</td>\n",
       "      <td>3</td>\n",
       "      <td>1</td>\n",
       "      <td>35</td>\n",
       "      <td>0</td>\n",
       "      <td>1</td>\n",
       "      <td>0</td>\n",
       "    </tr>\n",
       "    <tr>\n",
       "      <th>2</th>\n",
       "      <td>0</td>\n",
       "      <td>0</td>\n",
       "      <td>0</td>\n",
       "      <td>38439.0</td>\n",
       "      <td>0</td>\n",
       "      <td>2</td>\n",
       "      <td>310</td>\n",
       "      <td>2</td>\n",
       "      <td>2010</td>\n",
       "      <td>0</td>\n",
       "      <td>3</td>\n",
       "      <td>1</td>\n",
       "      <td>35</td>\n",
       "      <td>0</td>\n",
       "      <td>1</td>\n",
       "      <td>0</td>\n",
       "    </tr>\n",
       "    <tr>\n",
       "      <th>3</th>\n",
       "      <td>0</td>\n",
       "      <td>0</td>\n",
       "      <td>0</td>\n",
       "      <td>38439.0</td>\n",
       "      <td>0</td>\n",
       "      <td>2</td>\n",
       "      <td>310</td>\n",
       "      <td>2</td>\n",
       "      <td>2010</td>\n",
       "      <td>0</td>\n",
       "      <td>3</td>\n",
       "      <td>1</td>\n",
       "      <td>35</td>\n",
       "      <td>0</td>\n",
       "      <td>1</td>\n",
       "      <td>0</td>\n",
       "    </tr>\n",
       "    <tr>\n",
       "      <th>4</th>\n",
       "      <td>0</td>\n",
       "      <td>0</td>\n",
       "      <td>0</td>\n",
       "      <td>22775.0</td>\n",
       "      <td>0</td>\n",
       "      <td>2</td>\n",
       "      <td>2300</td>\n",
       "      <td>1</td>\n",
       "      <td>2010</td>\n",
       "      <td>1</td>\n",
       "      <td>2</td>\n",
       "      <td>1</td>\n",
       "      <td>45</td>\n",
       "      <td>0</td>\n",
       "      <td>8</td>\n",
       "      <td>0</td>\n",
       "    </tr>\n",
       "  </tbody>\n",
       "</table>\n",
       "</div>"
      ],
      "text/plain": [
       "   $1000 Damage to Any One Person's Property  Active School Zone Flag  \\\n",
       "0                                          0                        0   \n",
       "1                                          0                        0   \n",
       "2                                          0                        0   \n",
       "3                                          0                        0   \n",
       "4                                          0                        0   \n",
       "\n",
       "   At Intersection Flag  Average Daily Traffic Amount  Construction Zone Flag  \\\n",
       "0                     0                       15262.0                       0   \n",
       "1                     0                       38439.0                       0   \n",
       "2                     0                       38439.0                       0   \n",
       "3                     0                       38439.0                       0   \n",
       "4                     0                       22775.0                       0   \n",
       "\n",
       "   Crash Severity  Crash Time  Crash Total Injury Count  Crash Year  \\\n",
       "0               0         239                         1        2010   \n",
       "1               2         310                         2        2010   \n",
       "2               2         310                         2        2010   \n",
       "3               2         310                         2        2010   \n",
       "4               2        2300                         1        2010   \n",
       "\n",
       "   Day of Week  Intersection Related  Roadway Part  Speed Limit  \\\n",
       "0            0                     3             1           45   \n",
       "1            0                     3             1           35   \n",
       "2            0                     3             1           35   \n",
       "3            0                     3             1           35   \n",
       "4            1                     2             1           45   \n",
       "\n",
       "   Surface Condition  Traffic Control Type  Person Helmet  \n",
       "0                  0                     6              2  \n",
       "1                  0                     1              0  \n",
       "2                  0                     1              0  \n",
       "3                  0                     1              0  \n",
       "4                  0                     8              0  "
      ]
     },
     "execution_count": 20,
     "metadata": {},
     "output_type": "execute_result"
    }
   ],
   "source": [
    "df_new.head()"
   ]
  },
  {
   "cell_type": "code",
   "execution_count": 21,
   "id": "b9d04b1f",
   "metadata": {},
   "outputs": [],
   "source": [
    "X = df_new.drop('Crash Severity', axis=1)\n",
    "y = df_new['Crash Severity']"
   ]
  },
  {
   "cell_type": "code",
   "execution_count": 22,
   "id": "e6ab792b",
   "metadata": {},
   "outputs": [],
   "source": [
    "from sklearn.model_selection import train_test_split\n",
    "X_train,X_test,y_train,y_test = train_test_split(X, y, test_size =0.20, random_state=3)"
   ]
  },
  {
   "cell_type": "markdown",
   "id": "84cb1295",
   "metadata": {},
   "source": [
    "# LOGISTIC REGRESSION"
   ]
  },
  {
   "cell_type": "code",
   "execution_count": 23,
   "id": "580e4e8d",
   "metadata": {},
   "outputs": [],
   "source": [
    "from sklearn.linear_model import LogisticRegression\n",
    "from sklearn.pipeline import make_pipeline\n",
    "from sklearn.preprocessing import StandardScaler\n",
    "from sklearn.metrics import confusion_matrix\n",
    "import matplotlib.pyplot as plt\n",
    "%matplotlib inline\n",
    "\n",
    "lr_model = LogisticRegression()"
   ]
  },
  {
   "cell_type": "code",
   "execution_count": 24,
   "id": "467f7996",
   "metadata": {},
   "outputs": [
    {
     "name": "stderr",
     "output_type": "stream",
     "text": [
      "/Users/amrytapanda/opt/anaconda3/lib/python3.9/site-packages/sklearn/linear_model/_logistic.py:763: ConvergenceWarning: lbfgs failed to converge (status=1):\n",
      "STOP: TOTAL NO. of ITERATIONS REACHED LIMIT.\n",
      "\n",
      "Increase the number of iterations (max_iter) or scale the data as shown in:\n",
      "    https://scikit-learn.org/stable/modules/preprocessing.html\n",
      "Please also refer to the documentation for alternative solver options:\n",
      "    https://scikit-learn.org/stable/modules/linear_model.html#logistic-regression\n",
      "  n_iter_i = _check_optimize_result(\n"
     ]
    },
    {
     "data": {
      "text/plain": [
       "LogisticRegression()"
      ]
     },
     "execution_count": 24,
     "metadata": {},
     "output_type": "execute_result"
    }
   ],
   "source": [
    "lr_model.fit(X_train,y_train)"
   ]
  },
  {
   "cell_type": "code",
   "execution_count": 25,
   "id": "aba15ad6",
   "metadata": {},
   "outputs": [],
   "source": [
    "lr_prediction = lr_model.predict(X_test)"
   ]
  },
  {
   "cell_type": "code",
   "execution_count": 26,
   "id": "ff0e6110",
   "metadata": {},
   "outputs": [
    {
     "data": {
      "text/plain": [
       "0.6348884381338742"
      ]
     },
     "execution_count": 26,
     "metadata": {},
     "output_type": "execute_result"
    }
   ],
   "source": [
    "lr_model.score(X_test, y_test)"
   ]
  },
  {
   "cell_type": "code",
   "execution_count": 27,
   "id": "55f6d452",
   "metadata": {},
   "outputs": [
    {
     "data": {
      "text/plain": [
       "<AxesSubplot:>"
      ]
     },
     "execution_count": 27,
     "metadata": {},
     "output_type": "execute_result"
    },
    {
     "data": {
      "image/png": "[encoded data removed]",
      "text/plain": [
       "<Figure size 432x288 with 2 Axes>"
      ]
     },
     "metadata": {
      "needs_background": "light"
     },
     "output_type": "display_data"
    }
   ],
   "source": [
    "import seaborn as sns\n",
    "cm = confusion_matrix(y_test, lr_prediction)\n",
    "sns.heatmap(cm, annot=True, fmt = 'g')"
   ]
  },
  {
   "cell_type": "code",
   "execution_count": 28,
   "id": "02f0e987",
   "metadata": {},
   "outputs": [],
   "source": [
    "lr_importance = lr_model.coef_[0]"
   ]
  },
  {
   "cell_type": "code",
   "execution_count": 29,
   "id": "af64fcce",
   "metadata": {},
   "outputs": [
    {
     "name": "stdout",
     "output_type": "stream",
     "text": [
      "Feature: 0, Score: 0.00000\n",
      "Feature: 1, Score: 0.00000\n",
      "Feature: 2, Score: -0.00000\n",
      "Feature: 3, Score: -0.00000\n",
      "Feature: 4, Score: -0.00000\n",
      "Feature: 5, Score: 0.00041\n",
      "Feature: 6, Score: 0.00001\n",
      "Feature: 7, Score: -0.00024\n",
      "Feature: 8, Score: 0.00000\n",
      "Feature: 9, Score: 0.00000\n",
      "Feature: 10, Score: -0.00000\n",
      "Feature: 11, Score: 0.00001\n",
      "Feature: 12, Score: 0.00001\n",
      "Feature: 13, Score: -0.00000\n",
      "Feature: 14, Score: -0.00000\n"
     ]
    }
   ],
   "source": [
    "for i,v in enumerate(lr_importance):\n",
    "    print('Feature: %0d, Score: %.5f'%(i,v))"
   ]
  },
  {
   "cell_type": "code",
   "execution_count": 30,
   "id": "7bb482e4",
   "metadata": {},
   "outputs": [
    {
     "data": {
      "image/png": "[encoded data removed]",
      "text/plain": [
       "<Figure size 432x288 with 1 Axes>"
      ]
     },
     "metadata": {
      "needs_background": "light"
     },
     "output_type": "display_data"
    }
   ],
   "source": [
    "plt.bar([x for x in range(len(lr_importance))], lr_importance)\n",
    "plt.show()"
   ]
  },
  {
   "cell_type": "code",
   "execution_count": null,
   "id": "985ec244",
   "metadata": {},
   "outputs": [],
   "source": []
  },
  {
   "cell_type": "markdown",
   "id": "4e2abd9c",
   "metadata": {},
   "source": [
    "# DECISION TREE CLASSIFICATION"
   ]
  },
  {
   "cell_type": "code",
   "execution_count": 31,
   "id": "82d68bd7",
   "metadata": {},
   "outputs": [],
   "source": [
    "from sklearn.tree import DecisionTreeClassifier\n",
    "\n",
    "dtree_model =  DecisionTreeClassifier(max_depth=4)"
   ]
  },
  {
   "cell_type": "code",
   "execution_count": 32,
   "id": "9d6ac954",
   "metadata": {},
   "outputs": [
    {
     "data": {
      "text/plain": [
       "DecisionTreeClassifier(max_depth=4)"
      ]
     },
     "execution_count": 32,
     "metadata": {},
     "output_type": "execute_result"
    }
   ],
   "source": [
    "dtree_model.fit(X_train, y_train)"
   ]
  },
  {
   "cell_type": "code",
   "execution_count": 33,
   "id": "9b347c3e",
   "metadata": {},
   "outputs": [],
   "source": [
    "dtree_predict = dtree_model.predict(X_test)"
   ]
  },
  {
   "cell_type": "code",
   "execution_count": 34,
   "id": "6f7882dd",
   "metadata": {},
   "outputs": [
    {
     "data": {
      "text/plain": [
       "0.6937119675456389"
      ]
     },
     "execution_count": 34,
     "metadata": {},
     "output_type": "execute_result"
    }
   ],
   "source": [
    "dtree_model.score(X_test,y_test)"
   ]
  },
  {
   "cell_type": "code",
   "execution_count": 35,
   "id": "a8111ba9",
   "metadata": {},
   "outputs": [],
   "source": [
    "dt_importance = dtree_model.feature_importances_"
   ]
  },
  {
   "cell_type": "code",
   "execution_count": 36,
   "id": "7d2f2fab",
   "metadata": {},
   "outputs": [
    {
     "name": "stdout",
     "output_type": "stream",
     "text": [
      "Feature: 0, Score: 0.00703\n",
      "Feature: 1, Score: 0.00000\n",
      "Feature: 2, Score: 0.00000\n",
      "Feature: 3, Score: 0.01948\n",
      "Feature: 4, Score: 0.00000\n",
      "Feature: 5, Score: 0.08930\n",
      "Feature: 6, Score: 0.87712\n",
      "Feature: 7, Score: 0.00708\n",
      "Feature: 8, Score: 0.00000\n",
      "Feature: 9, Score: 0.00000\n",
      "Feature: 10, Score: 0.00000\n",
      "Feature: 11, Score: 0.00000\n",
      "Feature: 12, Score: 0.00000\n",
      "Feature: 13, Score: 0.00000\n",
      "Feature: 14, Score: 0.00000\n"
     ]
    }
   ],
   "source": [
    "for i,v in enumerate(dt_importance):\n",
    "    print('Feature: %0d, Score: %.5f'%(i,v))"
   ]
  },
  {
   "cell_type": "code",
   "execution_count": 37,
   "id": "a698a9ab",
   "metadata": {},
   "outputs": [
    {
     "data": {
      "image/png": "[encoded data removed]",
      "text/plain": [
       "<Figure size 432x288 with 1 Axes>"
      ]
     },
     "metadata": {
      "needs_background": "light"
     },
     "output_type": "display_data"
    }
   ],
   "source": [
    "plt.bar([x for x in range(len(dt_importance))], dt_importance)\n",
    "plt.show()"
   ]
  },
  {
   "cell_type": "markdown",
   "id": "9983ae1f",
   "metadata": {},
   "source": [
    "# RANDOM FOREST CLASSIFICATION"
   ]
  },
  {
   "cell_type": "code",
   "execution_count": 38,
   "id": "3ad05b61",
   "metadata": {},
   "outputs": [],
   "source": [
    "from sklearn.ensemble import RandomForestClassifier\n",
    "rc = RandomForestClassifier(n_estimators=5000, max_depth=4)"
   ]
  },
  {
   "cell_type": "code",
   "execution_count": 39,
   "id": "75db44db",
   "metadata": {},
   "outputs": [
    {
     "data": {
      "text/plain": [
       "RandomForestClassifier(max_depth=4, n_estimators=5000)"
      ]
     },
     "execution_count": 39,
     "metadata": {},
     "output_type": "execute_result"
    }
   ],
   "source": [
    "rc.fit(X_train, y_train)"
   ]
  },
  {
   "cell_type": "code",
   "execution_count": 40,
   "id": "e7dd9ba8",
   "metadata": {},
   "outputs": [],
   "source": [
    "rc_predict = rc.predict(X_test)"
   ]
  },
  {
   "cell_type": "code",
   "execution_count": 41,
   "id": "2118c0a5",
   "metadata": {},
   "outputs": [
    {
     "data": {
      "text/plain": [
       "0.6977687626774848"
      ]
     },
     "execution_count": 41,
     "metadata": {},
     "output_type": "execute_result"
    }
   ],
   "source": [
    "rc.score(X_test, y_test)"
   ]
  },
  {
   "cell_type": "code",
   "execution_count": 42,
   "id": "215e221e",
   "metadata": {},
   "outputs": [
    {
     "name": "stdout",
     "output_type": "stream",
     "text": [
      "Feature: 0, Score: 0.03467\n",
      "Feature: 1, Score: 0.00094\n",
      "Feature: 2, Score: 0.00764\n",
      "Feature: 3, Score: 0.03807\n",
      "Feature: 4, Score: 0.00176\n",
      "Feature: 5, Score: 0.08912\n",
      "Feature: 6, Score: 0.61327\n",
      "Feature: 7, Score: 0.03581\n",
      "Feature: 8, Score: 0.02662\n",
      "Feature: 9, Score: 0.03518\n",
      "Feature: 10, Score: 0.01538\n",
      "Feature: 11, Score: 0.02549\n",
      "Feature: 12, Score: 0.03215\n",
      "Feature: 13, Score: 0.02378\n",
      "Feature: 14, Score: 0.02011\n"
     ]
    }
   ],
   "source": [
    "rc_importance = rc.feature_importances_\n",
    "for i,v in enumerate(rc_importance):\n",
    "    print('Feature: %0d, Score: %.5f'%(i,v))"
   ]
  },
  {
   "cell_type": "code",
   "execution_count": 43,
   "id": "3f380385",
   "metadata": {},
   "outputs": [
    {
     "data": {
      "image/png": "[encoded data removed]",
      "text/plain": [
       "<Figure size 432x288 with 1 Axes>"
      ]
     },
     "metadata": {
      "needs_background": "light"
     },
     "output_type": "display_data"
    }
   ],
   "source": [
    "plt.bar([x for x in range(len(rc_importance))], rc_importance)\n",
    "plt.show()"
   ]
  },
  {
   "cell_type": "code",
   "execution_count": null,
   "id": "177aebee",
   "metadata": {},
   "outputs": [],
   "source": []
  },
  {
   "cell_type": "code",
   "execution_count": null,
   "id": "acdc4dc2",
   "metadata": {},
   "outputs": [],
   "source": []
  },
  {
   "cell_type": "code",
   "execution_count": null,
   "id": "144e8df3",
   "metadata": {},
   "outputs": [],
   "source": []
  },
  {
   "cell_type": "code",
   "execution_count": null,
   "id": "6d261ed1",
   "metadata": {},
   "outputs": [],
   "source": []
  }
 ],
 "metadata": {
  "interpreter": {
   "hash": "898931ffe81fb5e96324a6e2e2ce5f11ca205977205e1f9d5f32181245549b39"
  },
  "kernelspec": {
   "display_name": "Python 3 (ipykernel)",
   "language": "python",
   "name": "python3"
  },
  "language_info": {
   "codemirror_mode": {
    "name": "ipython",
    "version": 3
   },
   "file_extension": ".py",
   "mimetype": "text/x-python",
   "name": "python",
   "nbconvert_exporter": "python",
   "pygments_lexer": "ipython3",
   "version": "3.9.7"
  }
 },
 "nbformat": 4,
 "nbformat_minor": 5
}
